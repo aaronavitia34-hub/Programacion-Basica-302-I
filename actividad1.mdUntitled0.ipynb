{
  "nbformat": 4,
  "nbformat_minor": 0,
  "metadata": {
    "colab": {
      "provenance": [],
      "authorship_tag": "ABX9TyNYYaVbow1HhWwrffHYq2tJ",
      "include_colab_link": true
    },
    "kernelspec": {
      "name": "python3",
      "display_name": "Python 3"
    },
    "language_info": {
      "name": "python"
    }
  },
  "cells": [
    {
      "cell_type": "markdown",
      "metadata": {
        "id": "view-in-github",
        "colab_type": "text"
      },
      "source": [
        "<a href=\"https://colab.research.google.com/github/aaronavitia34-hub/Programacion-Basica-302-I/blob/main/actividad1.mdUntitled0.ipynb\" target=\"_parent\"><img src=\"https://colab.research.google.com/assets/colab-badge.svg\" alt=\"Open In Colab\"/></a>"
      ]
    },
    {
      "cell_type": "markdown",
      "source": [
        "pb302_2.cpp Programa para imprimir datos personales"
      ],
      "metadata": {
        "id": "VPv9S13SsDCv"
      }
    },
    {
      "cell_type": "code",
      "source": [
        "%%writefile PB302_2.cpp\n",
        "//programa para mostrar datos personales\n",
        "//creador por aaron avitia castillo\n",
        "//fecha:7septiembre/2025\n",
        "//PB302_2.cpp\n",
        "#include <iostream>\n",
        "using namespace std;\n",
        "int main()\n",
        "{\n",
        "  char nombre[15]=\"aaron\";\n",
        "  char paterno[12]=\"avitia\";\n",
        "  char materno[24]=\"castillo\";\n",
        "  int edad=16;\n",
        "  char direccion[50]=\"Islas Menorca\";\n",
        "  char fechanac[50]=\"09/marzo/2008\";\n",
        "  char ciudadnac[40]=\"juarez\";\n",
        "\n",
        "  cout<<\"nombre completo:\\n\";\n",
        "  cout<<nombre<<\"\\n\";\n",
        "  cout<<paterno<<\"\\n\";\n",
        "  cout<<materno<<\"\\n\";\n",
        "  cout<<edad<<\"\\n\";\n",
        "  cout<<direccion<<\"\\n\";\n",
        "  cout<<fechanac<<\"\\n\";\n",
        "  cout<<ciudadnac<<\"\\n\";\n",
        "\n",
        "  return 0;\n",
        "}"
      ],
      "metadata": {
        "colab": {
          "base_uri": "https://localhost:8080/"
        },
        "outputId": "8312bc41-703a-4a84-8e71-67fcdea6206e",
        "id": "xxjuZ2ao11GW"
      },
      "execution_count": 55,
      "outputs": [
        {
          "output_type": "stream",
          "name": "stdout",
          "text": [
            "Overwriting PB302_2.cpp\n"
          ]
        }
      ]
    },
    {
      "cell_type": "code",
      "source": [
        "!g++ PB302_2.cpp -o PB302_2.exe\n",
        "!./PB302_2.exe"
      ],
      "metadata": {
        "colab": {
          "base_uri": "https://localhost:8080/"
        },
        "id": "McOlWcWOwoWl",
        "outputId": "1a108ec2-afd9-4391-ed65-26b5784c124a"
      },
      "execution_count": 56,
      "outputs": [
        {
          "output_type": "stream",
          "name": "stdout",
          "text": [
            "nombre completo:\n",
            "aaron\n",
            "avitia\n",
            "castillo\n",
            "16\n",
            "Islas Menorca\n",
            "09/marzo/2008\n",
            "juarez\n"
          ]
        }
      ]
    }
  ]
}