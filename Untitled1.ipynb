{
  "nbformat": 4,
  "nbformat_minor": 0,
  "metadata": {
    "colab": {
      "provenance": [],
      "authorship_tag": "ABX9TyNU1TyP95lC9BesNY8EgI9D",
      "include_colab_link": true
    },
    "kernelspec": {
      "name": "python3",
      "display_name": "Python 3"
    },
    "language_info": {
      "name": "python"
    }
  },
  "cells": [
    {
      "cell_type": "markdown",
      "metadata": {
        "id": "view-in-github",
        "colab_type": "text"
      },
      "source": [
        "<a href=\"https://colab.research.google.com/github/aaronavitia34-hub/Programacion-Basica-302-I/blob/main/Untitled1.ipynb\" target=\"_parent\"><img src=\"https://colab.research.google.com/assets/colab-badge.svg\" alt=\"Open In Colab\"/></a>"
      ]
    },
    {
      "cell_type": "markdown",
      "source": [
        "PB30?_.7- Realizar un programa que permita definir 3 variables de tipo caracter (char [ ]), en la primer variable capturaras desde teclado tu nombre, en la segunda variable capturaras desde teclado tu paterno y en la tercer variable capturaras desde teclado tu materno para mostrar en pantalla la longitud de caracteres que tiene cada variable capturada"
      ],
      "metadata": {
        "id": "QCRaXjDZg_VN"
      }
    },
    {
      "cell_type": "code",
      "source": [
        "%%writefile PB302_7.cpp\n",
        "//programa para detallar 3 variables desde teclado\n",
        "//creado aaron avitia castillo\n",
        "//fecha:02/oct/25\n",
        "//PB302_7.cpp\n",
        "#include <iostream>\n",
        "#include <string.h>\n",
        "using namespace std;\n",
        "int main()\n",
        "{\n",
        "  char nombre [20];\n",
        "  char paterno [20];\n",
        "  char materno [20];\n",
        "  cout <<\"ingresa tu nombre: \";\n",
        "  cin>>nombre; //captura desde teclado\n",
        "  cout<<\"Tu nombre es \\t\"<<nombre<<\"\\n\";\n",
        "  cout<<\"ingresa tu paterno: \";\n",
        "  cin>>paterno; //captura desde teclado\n",
        "  cout<<\"Tu paterno es \\t\"<<paterno<<\"\\n\";\n",
        "   cout<<\"ingresa tu materno: \";\n",
        "  cin>>materno; //captura desde teclado\n",
        "  cout<<\"Tu materno es \\t\"<<materno<<\"\\n\";\n",
        "  cout<<\"la longitud de tu nombre es\\t\"<<strlen(nombre)<<\"\\n\";\n",
        "   cout<<\"la longitud de tu paterno es\\t\"<<strlen(paterno)<<\"\\n\";\n",
        " cout<<\"la longitud de tu materno es\\t\"<<strlen(materno)<<\"\\n\";\n",
        "\n",
        "\n",
        "\n",
        "  return 0;\n",
        "}"
      ],
      "metadata": {
        "colab": {
          "base_uri": "https://localhost:8080/"
        },
        "id": "3B4ukJUzhDCE",
        "outputId": "e00ebee1-ec8b-4295-d70b-383375df4425"
      },
      "execution_count": 94,
      "outputs": [
        {
          "output_type": "stream",
          "name": "stdout",
          "text": [
            "Overwriting PB302_7.cpp\n"
          ]
        }
      ]
    },
    {
      "cell_type": "code",
      "source": [
        "!g++ PB302_7.cpp -o PB302_7.exe\n",
        "!./PB302_7.exe"
      ],
      "metadata": {
        "colab": {
          "base_uri": "https://localhost:8080/"
        },
        "id": "A7vAoGWFhRR8",
        "outputId": "713c6447-cffd-4fb4-b464-8555205ce461"
      },
      "execution_count": 2,
      "outputs": [
        {
          "output_type": "stream",
          "name": "stdout",
          "text": [
            "ingresa tu nombre: aaron\n",
            "Tu nombre es \taaron\n",
            "ingresa tu paterno: avitia\n",
            "Tu paterno es \tavitia\n",
            "ingresa tu materno: castillo\n",
            "Tu materno es \tcastillo\n",
            "la longitud de tu nombre es\t5\n",
            "la longitud de tu paterno es\t6\n",
            "la longitud de tu materno es\t8\n"
          ]
        }
      ]
    },
    {
      "cell_type": "markdown",
      "source": [
        "Realizar un programa que permita definir y capturar 10 variables de tipo caracter (char [ ]) y calcule la longitud de cada una de ellas en 10 variables enteras, posteriormente en una variable entera llamada total_de_letras calculará la suma de las longitudes de las 10 variables capturadas."
      ],
      "metadata": {
        "id": "n1RWO5ZIhfeE"
      }
    },
    {
      "cell_type": "code",
      "source": [
        "%%writefile PB302_8.cpp\n",
        "//programa para detallar 3 variables desde teclado\n",
        "//creado aaron avitia castillo\n",
        "//fecha:02/oct/25\n",
        "//PB302_8.cpp\n",
        "#include <iostream>\n",
        "#include <string.h>\n",
        "using namespace std;\n",
        "int main()\n",
        "{\n",
        "  char palabra1[20];\n",
        "  char palabra2[20];\n",
        "  char palabra3[20];\n",
        "  char palabra4[20];\n",
        "  char palabra5[20];\n",
        "  cout<<\"captura la palabra 1:\";\n",
        "  cin>>palabra1;\n",
        "  cout<<\"captura la palabra 2:\";\n",
        "  cin>>palabra2;\n",
        "  cout<<\"captura la palabra 3:\";\n",
        "  cin>>palabra3;\n",
        "cout<<\"captura la palabra 4:\";\n",
        "  cin>>palabra4;\n",
        "  cout<<\"captura la palabra 5:\";\n",
        "  cin>>palabra5;\n",
        "  cout<<\"la palabra 1 tiene\"<<strlen(palabra1)<<\"letras\\n\";\n",
        "  cout<<\"la palabra 2 tiene\"<<strlen(palabra2)<<\"letras\\n\";\n",
        "  cout<<\"la palabra 3 tiene\"<<strlen(palabra3)<<\"letras\\n\";\n",
        "  cout<<\"la palabra 4 tiene\"<<strlen(palabra4)<<\"letras\\n\";\n",
        "  cout<<\"la palabra 5 tiene\"<<strlen(palabra5)<<\"letras\\n\";\n",
        "\n",
        "  cout<<\"la suma de las letras de las 5 palabras es \\t\";\n",
        "  cout<<strlen(palabra1)+strlen(palabra2)+strlen(palabra3)+strlen(palabra4)+strlen(palabra5)<<\"\\n\";\n",
        "  return 0;\n",
        "}\n"
      ],
      "metadata": {
        "colab": {
          "base_uri": "https://localhost:8080/"
        },
        "id": "v6mt6-ddhldM",
        "outputId": "9fe030ca-7594-472e-ecac-89d9465c8d32"
      },
      "execution_count": 5,
      "outputs": [
        {
          "output_type": "stream",
          "name": "stdout",
          "text": [
            "Overwriting PB302_8.cpp\n"
          ]
        }
      ]
    },
    {
      "cell_type": "code",
      "source": [
        "!g++ PB302_8.cpp -o PB302_8.exe\n",
        "!./PB302_8.exe\n"
      ],
      "metadata": {
        "colab": {
          "base_uri": "https://localhost:8080/"
        },
        "id": "cNJkryhWhv9r",
        "outputId": "001c7d6c-05a0-4ea2-8fb9-ee6860ed30b1"
      },
      "execution_count": 6,
      "outputs": [
        {
          "output_type": "stream",
          "name": "stdout",
          "text": [
            "captura la palabra 1:top\n",
            "captura la palabra 2:palabra\n",
            "captura la palabra 3:prueba\n",
            "captura la palabra 4:jordan\n",
            "captura la palabra 5:roberto\n",
            "la palabra 1 tiene3letras\n",
            "la palabra 2 tiene7letras\n",
            "la palabra 3 tiene6letras\n",
            "la palabra 4 tiene6letras\n",
            "la palabra 5 tiene7letras\n",
            "la suma de las letras de las 5 palabras es \t29\n"
          ]
        }
      ]
    },
    {
      "cell_type": "markdown",
      "source": [
        "PB30?_ 9 .-Realizar un programa que permita capturar 2 frase motivacionales en variables de tipo caracter (char[ ]) y calcule la diferencia (resta) de caracteres que existen entre ellas y la imprima en pantalla.\n",
        "\n"
      ],
      "metadata": {
        "id": "TMviULVOixdT"
      }
    },
    {
      "cell_type": "code",
      "source": [
        "%%writefile PB302_9.cpp\n",
        "//programa para detallar variables desde teclado\n",
        "//creado aaron avitia castillo\n",
        "//fecha:03/10/25\n",
        "//PB302_9.cpp\n",
        "#include <iostream>\n",
        "#include <string.h>\n",
        "using namespace std;\n",
        "int main()\n",
        "{\n",
        "  char frase1[50];\n",
        "  char frase2[50];\n",
        "\n",
        "  cout<<\"primera frace motivacional1:\\n\";\n",
        "  cin.getline(frase1,50);\n",
        "\n",
        "  cout<<\"segunda frase motiavcional2:\\n\";\n",
        "  cin.getline(frase2,50);\n",
        "\n",
        "  int longitud1 =strlen(frase1);\n",
        "  int longitud2 = strlen(frase2);\n",
        "  int diferencia = longitud1 - longitud2;\n",
        "\n",
        "  cout << \"\\nLa primera frase tiene \" << longitud1 << \" caracteres.\\n\";\n",
        "  cout << \"\\nLa segunda frase tiene \" << longitud2 << \" caracteres.\\n\";\n",
        "  cout << \"\\nLa diferencia de caracteres entre ambas frases es: \" << diferencia << endl;\n",
        "\n",
        "\n",
        "  return 0;\n",
        "}\n"
      ],
      "metadata": {
        "colab": {
          "base_uri": "https://localhost:8080/"
        },
        "outputId": "0a98b1cc-93bd-488d-c2f1-e945f7eea82f",
        "id": "igOHzp4BlQ1j"
      },
      "execution_count": 86,
      "outputs": [
        {
          "output_type": "stream",
          "name": "stdout",
          "text": [
            "Overwriting PB302_9.cpp\n"
          ]
        }
      ]
    },
    {
      "cell_type": "code",
      "source": [
        "!g++ PB302_9.cpp -o PB302_9.exe\n",
        "!./PB302_9.exe\n"
      ],
      "metadata": {
        "colab": {
          "base_uri": "https://localhost:8080/"
        },
        "outputId": "ad067d94-3356-49b4-eeac-3133ed83d3e0",
        "id": "BtxnGHcTjNBK"
      },
      "execution_count": 85,
      "outputs": [
        {
          "output_type": "stream",
          "name": "stdout",
          "text": [
            "primera frace motivacional1:\n",
            "tu puedes\n",
            "segunda frase motiavcional2:\n",
            "eres muy fuerte\n",
            "\n",
            "La primera frase tiene 9 caracteres.\n",
            "\n",
            "La segunda frase tiene 15 caracteres.\n",
            "\n",
            "La diferencia de caracteres entre ambas frases es: -6\n"
          ]
        }
      ]
    },
    {
      "cell_type": "markdown",
      "source": [
        ".Realizar un programa que permita capturar una palabra y la imprima horizontalmente con tabuladores y verticalmente con saltos de línea.\n",
        "Ejemplo de prueba de escritorio"
      ],
      "metadata": {
        "id": "JkJ8tGNdsxjp"
      }
    },
    {
      "cell_type": "code",
      "source": [
        "%%writefile PB302_10.cpp\n",
        "//programa para detallar variables desde teclado\n",
        "//creado aaron avitia castillo\n",
        "//fecha:03/10/25\n",
        "//PB302_10.cpp\n",
        "#include <iostream>\n",
        "#include <string.h>\n",
        "using namespace std;\n",
        "int main()\n",
        "{\n",
        "char palaba[20];\n",
        "cout << \"ingresa una palabra: \";\n",
        "cin >> palaba;\n",
        "couty << \"la palabra ingresada es: \" << palabra << \"\\n\";\n",
        "cout << \"\\033[34m\"<<palabra[0]<<\"\\n\"<<palabra[1]<<\"\\n\"<<palabra[2]<<\"\\n\"<<palabra[3]<<\"\\n\"<<palabra[4]<<\"\\n\";\n",
        "cout << \"\\033[32m\"<<palabra[0]<<\"\\n\"<<palabra[1]<<\"\\n\"<<palabra[2]<<\"\\n\"<<palabra[3]<<\"\\n\"<<palabra[4]<<\"\\n\";\n",
        "\n",
        "return 0;\n"
      ],
      "metadata": {
        "colab": {
          "base_uri": "https://localhost:8080/"
        },
        "outputId": "a58c6ece-a6c4-4406-87af-2059c9221a00",
        "id": "aKPEMEn-tHPg"
      },
      "execution_count": 92,
      "outputs": [
        {
          "output_type": "stream",
          "name": "stdout",
          "text": [
            "Overwriting PB302_10.cpp\n"
          ]
        }
      ]
    },
    {
      "cell_type": "code",
      "source": [
        "!g++ PB302_9.cpp -o PB302_9.exe\n",
        "!./PB302_9.exe\n"
      ],
      "metadata": {
        "colab": {
          "base_uri": "https://localhost:8080/"
        },
        "outputId": "96ac1533-e15c-4ff1-e495-81a3a57f4860",
        "id": "EsPHHFXSuPNg"
      },
      "execution_count": 93,
      "outputs": [
        {
          "output_type": "stream",
          "name": "stdout",
          "text": [
            "Captura una palabra: hola\n",
            "Horizontal:\n",
            "h\to\tl\ta\t\n",
            "Vertical:\n",
            "h\n",
            "o\n",
            "l\n",
            "a\n"
          ]
        }
      ]
    }
  ]
}